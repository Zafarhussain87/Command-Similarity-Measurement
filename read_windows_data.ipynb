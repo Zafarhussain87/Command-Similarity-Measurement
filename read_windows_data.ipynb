{
 "cells": [
  {
   "cell_type": "code",
   "execution_count": null,
   "metadata": {},
   "outputs": [],
   "source": [
    "import requests\n",
    "import urllib.request\n",
    "import time\n",
    "from bs4 import BeautifulSoup\n",
    "import json\n",
    "import pandas as pd\n",
    "import numpy as np\n",
    "from pprint import pprint\n",
    "import nltk\n",
    "#nltk.download('stopwords')\n",
    "from nltk.corpus import stopwords \n",
    "from nltk.tokenize import word_tokenize \n",
    "import re \n",
    "import string\n",
    "from sklearn.metrics.pairwise import cosine_similarity\n",
    "from sklearn.feature_extraction.text import CountVectorizer\n",
    "from nltk.corpus import stopwords\n",
    "stopwords = stopwords.words('english')"
   ]
  },
  {
   "cell_type": "code",
   "execution_count": null,
   "metadata": {},
   "outputs": [],
   "source": [
    "url = 'https://docs.microsoft.com/en-us/windows-server/administration/windows-commands/windows-commands'\n",
    "response = requests.get(url)\n",
    "soup = BeautifulSoup(response.text, \"html.parser\")"
   ]
  },
  {
   "cell_type": "code",
   "execution_count": null,
   "metadata": {},
   "outputs": [],
   "source": [
    "commands_win = []\n",
    "links = []\n",
    "for li in soup.find_all('li'):\n",
    "    if li.find('a'):\n",
    "        a_dat = li.find('a')\n",
    "        commands_win.append(a_dat.get_text())\n",
    "        links.append(a_dat.get('href'))\n",
    "commands_win = commands_win[8:714]\n",
    "links = links[8:714]"
   ]
  },
  {
   "cell_type": "code",
   "execution_count": null,
   "metadata": {},
   "outputs": [],
   "source": [
    "def create_par_desc(tables, url):\n",
    "    tags_match = '\\w+\\[+:\\]\\<\\w+\\>'\n",
    "    par_list = ['sub-command','option', 'paramreter','parameters', 'term', 'commands', 'subcommand', 'base parameters',\n",
    "            'option flag', 'parameter']\n",
    "    parameter = dict()\n",
    "    if tables:\n",
    "        head = tables.find_all('th')\n",
    "        if head[0].text.lower() in par_list and head[1].text.lower()=='description':\n",
    "            lists = tables.find_all('td')\n",
    "            table = pd.read_html(url)\n",
    "            tot_text = table[0][head[0].text]\n",
    "            total_desc = table[0][head[1].text]\n",
    "            ind = 0\n",
    "            for j in range(len(tot_text)):\n",
    "                if type(tot_text[j]) is str and re.findall(tags_match, tot_text[j]):\n",
    "                    key_lists = []\n",
    "                    info = tables.find_all('ul')[ind]\n",
    "                    ind+=1\n",
    "                    matches = dict(re.findall( r'(?is)<strong>\\s*([^<]*?)\\s*<\\/strong>\\s*([^<]*?)\\s*<', str(info)))\n",
    "                    for k, v in matches.items():\n",
    "                        key_lists.append([k,v])\n",
    "                    parameter[tot_text[j]] = total_desc[j].split(':')[0]+ ': ' + ', '.join('-'.join(sub) for sub in key_lists )+'. '\n",
    "            \n",
    "                else:\n",
    "                    parameter[tot_text[j]] =  total_desc[j]\n",
    "        else:\n",
    "            parameter['None'] = 'None'\n",
    "    else:\n",
    "        parameter['None'] = 'None'\n",
    "    return parameter           "
   ]
  },
  {
   "cell_type": "code",
   "execution_count": null,
   "metadata": {},
   "outputs": [],
   "source": [
    "data = {}\n",
    "data['commands'] = []\n",
    "for i in range(0,len(commands_win)):\n",
    "    url = 'https://docs.microsoft.com/en-us/windows-server/administration/windows-commands/'+links[i]\n",
    "    response = requests.get(url)\n",
    "    soup = BeautifulSoup(response.text, \"html.parser\")\n",
    "    desc = soup.find_all('p')#.get_text()\n",
    "    #print(cmd)\n",
    "    if len(desc)>1:\n",
    "        first = desc[0].get_text()\n",
    "        second = desc[1].get_text()\n",
    "        if 'applies to: windows ' in first.lower():\n",
    "            description = second\n",
    "        else:\n",
    "            description = first\n",
    "    else:\n",
    "        description = desc[0].get_text()\n",
    "    extra_sections = ['warning', 'note', 'important', 'caution']\n",
    "    for d in range(1,len(desc)+1):\n",
    "        if desc[d-1].get_text().lower() in extra_sections:\n",
    "            description = description+desc[d].get_text()\n",
    "    \n",
    "    syntax = soup.find('pre')\n",
    "    tables = soup.find('table')\n",
    "    \n",
    "    if syntax:\n",
    "        syntax_str = syntax.text\n",
    "        syntax_data = syntax_str.split(\"\\n\")\n",
    "        syntax_data = syntax_data[:-1]\n",
    "        \n",
    "    else:\n",
    "        syntax_data = 'None'\n",
    "    print(commands_win[i])\n",
    "    parameter = create_par_desc(tables, url)\n",
    "    \n",
    "    if 'command has been deprecated' not in description.lower():\n",
    "        data['commands'].append({\n",
    "        'commands': commands_win[i],\n",
    "        'description':description,\n",
    "        'syntax':   syntax_data,\n",
    "        'parameters':parameter })"
   ]
  },
  {
   "cell_type": "code",
   "execution_count": null,
   "metadata": {},
   "outputs": [],
   "source": [
    "with open('data.txt', 'w') as outfile:\n",
    "    json.dump(data, outfile)"
   ]
  },
  {
   "cell_type": "code",
   "execution_count": null,
   "metadata": {},
   "outputs": [],
   "source": []
  }
 ],
 "metadata": {
  "kernelspec": {
   "display_name": "Python 3",
   "language": "python",
   "name": "python3"
  },
  "language_info": {
   "codemirror_mode": {
    "name": "ipython",
    "version": 3
   },
   "file_extension": ".py",
   "mimetype": "text/x-python",
   "name": "python",
   "nbconvert_exporter": "python",
   "pygments_lexer": "ipython3",
   "version": "3.7.7"
  }
 },
 "nbformat": 4,
 "nbformat_minor": 4
}

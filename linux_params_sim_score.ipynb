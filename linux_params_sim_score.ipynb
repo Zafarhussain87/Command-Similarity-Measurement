{
 "cells": [
  {
   "cell_type": "code",
   "execution_count": 167,
   "metadata": {},
   "outputs": [],
   "source": [
    "import json\n",
    "import pandas as pd\n",
    "import numpy as np\n",
    "from pprint import pprint\n",
    "import nltk\n",
    "#nltk.download('stopwords')\n",
    "from nltk.corpus import stopwords \n",
    "from nltk.tokenize import word_tokenize \n",
    "import matplotlib.pyplot as plt\n",
    "import string\n",
    "from sklearn.metrics.pairwise import cosine_similarity\n",
    "from sklearn.feature_extraction.text import CountVectorizer\n",
    "from nltk.corpus import stopwords\n",
    "#stopwords = stopwords.words('english')\n",
    "import gensim\n",
    "import nltk\n",
    "#nltk.download('averaged_perceptron_tagger')\n",
    "#nltk.download('wordnet')\n",
    "import warnings\n",
    "from scipy.optimize import linear_sum_assignment\n",
    "warnings.filterwarnings('ignore')"
   ]
  },
  {
   "cell_type": "code",
   "execution_count": 168,
   "metadata": {},
   "outputs": [],
   "source": [
    "with open(\"./data/linux/linux_data_clean.txt\", \"r\") as read_file:\n",
    "    data = json.load(read_file)"
   ]
  },
  {
   "cell_type": "code",
   "execution_count": 171,
   "metadata": {},
   "outputs": [],
   "source": [
    "import nltk, string\n",
    "from sklearn.feature_extraction.text import TfidfVectorizer\n",
    "stemmer = nltk.stem.porter.PorterStemmer()\n",
    "remove_punctuation_map = dict((ord(char), None) for char in string.punctuation)\n",
    "\n",
    "def stem_tokens(tokens):\n",
    "    return [stemmer.stem(item) for item in tokens]\n",
    "\n",
    "'''remove punctuation, lowercase, stem'''\n",
    "def normalize(text):\n",
    "    return stem_tokens(nltk.word_tokenize(text.lower().translate(remove_punctuation_map)))\n",
    "\n",
    "vectorizer = TfidfVectorizer(tokenizer=normalize, stop_words='english')\n",
    "\n",
    "def cosine_sim(text1, text2):\n",
    "    tfidf = vectorizer.fit_transform([text1, text2])\n",
    "    return ((tfidf * tfidf.T).A)[0,1]\n"
   ]
  },
  {
   "cell_type": "code",
   "execution_count": 172,
   "metadata": {},
   "outputs": [],
   "source": [
    "def cal_param_sim_basic(comd1, comd2):\n",
    "    par_names_comd1 = []\n",
    "    par_names_comd2 = []\n",
    "    stop_words = stopwords.words('english')\n",
    "    for key_comd1,val_comd1 in comd1.items():\n",
    "        par_names_comd1.append(key_comd1)\n",
    "    for key_comd2, val_comd2 in comd2.items():\n",
    "        par_names_comd2.append(key_comd2)\n",
    "    comds_pars_comps = pd.DataFrame(columns=par_names_comd1, index=par_names_comd2)\n",
    "    for key1, val1 in comd1.items():\n",
    "        val1 = \" \".join(word for word in val1.split() if word.lower() not in stop_words)\n",
    "        for key2, val2 in comd2.items():\n",
    "            val2 = \" \".join(word for word in val2.split() if word.lower() not in stop_words)\n",
    "            if len(val1)>2 and len(val2)>2:\n",
    "                comds_pars_comps.loc[key2, key1] = round(cosine_sim(val1, val2),3)\n",
    "                \n",
    "            else:\n",
    "                 comds_pars_comps.loc[key2, key1] = 0\n",
    "    #comds_pars_comps = comds_pars_comps.loc[~(comds_pars_comps==0).all(axis=1)]\n",
    "    return comds_pars_comps\n",
    "        "
   ]
  },
  {
   "cell_type": "code",
   "execution_count": 173,
   "metadata": {},
   "outputs": [],
   "source": [
    "def cal_linear_sum_assignment(data_matrix):\n",
    "    data_matrix_array = data_matrix.to_numpy(dtype=float)\n",
    "    row_ind, col_ind = linear_sum_assignment(data_matrix_array)\n",
    "    return data_matrix_array[ row_ind,col_ind].sum()"
   ]
  },
  {
   "cell_type": "code",
   "execution_count": 174,
   "metadata": {},
   "outputs": [],
   "source": [
    "def cal_par_sim_matrix(first_comd, second_comd):\n",
    "    sim_matrix = cal_param_sim_basic(first_comd, second_comd)  \n",
    "    #sim_score = unique_pars_sim_score(sim_matrix)\n",
    "    sim_score = -cal_linear_sum_assignment(-sim_matrix)/min(sim_matrix.shape)\n",
    "    return sim_score\n",
    "    "
   ]
  },
  {
   "cell_type": "code",
   "execution_count": 175,
   "metadata": {},
   "outputs": [],
   "source": [
    "def all_pars_sim_score(df):\n",
    "    #df = df.loc[~(df==0).all(axis=1)]\n",
    "    #df = df.loc[:, (df != 0).any(axis=0)]\n",
    "    cols = df.columns\n",
    "    indx = df.index\n",
    "    max_sim = 0\n",
    "    for c in cols:\n",
    "        max_sim+=df[c].max()\n",
    "    for i in indx:\n",
    "        max_sim+=df.loc[i].max()\n",
    "    if max_sim>0:\n",
    "        sim_score = round(max_sim/(len(cols)+len(indx)),3)\n",
    "    else:\n",
    "        sim_score=0\n",
    "    return sim_score\n"
   ]
  },
  {
   "cell_type": "code",
   "execution_count": 176,
   "metadata": {},
   "outputs": [],
   "source": [
    "def common_pars_sim_score(df):\n",
    "    #df = df.loc[~(df==0).all(axis=1)]\n",
    "    #df = df.loc[:, (df != 0).any(axis=0)]\n",
    "    cols = df.columns\n",
    "    indx = df.index\n",
    "    max_sim = 0\n",
    "    com_flags = 0\n",
    "    for c in cols:\n",
    "        for i in indx:\n",
    "            if c == i:\n",
    "                com_flags+=1\n",
    "                max_sim+=df.loc[c, i]\n",
    "    if com_flags>0:\n",
    "        sim_score = round(max_sim/com_flags,3)\n",
    "    else:\n",
    "        sim_score= 0\n",
    "    return sim_score"
   ]
  },
  {
   "cell_type": "code",
   "execution_count": 177,
   "metadata": {},
   "outputs": [],
   "source": [
    "def unique_pars_sim_score(df):\n",
    "    #df = df.loc[~(df==0).all(axis=1)]\n",
    "    #df = df.loc[:, (df != 0).any(axis=0)]\n",
    "    cols = list(df.columns)\n",
    "    indx = list(df.index)\n",
    "    max_sim = 0\n",
    "    for c in cols:\n",
    "        for i in indx:\n",
    "            if c == i:\n",
    "                max_sim+=df.loc[c, i]\n",
    "    if max_sim>0:\n",
    "        sim_score = round(max_sim/len(set(cols+indx)),3)\n",
    "    else:\n",
    "        sim_score= 0\n",
    "    return sim_score"
   ]
  },
  {
   "cell_type": "code",
   "execution_count": 178,
   "metadata": {},
   "outputs": [],
   "source": [
    "def create_pars_sim_df(data):\n",
    "    columns_names = []\n",
    "    for dc in range(len(data['commands'])):\n",
    "        columns_names.append(data['commands'][dc]['commands'])\n",
    "    par_sim_rows_cols = pd.DataFrame(columns=columns_names, index=columns_names)\n",
    "    for col1 in range(len(data['commands'])):\n",
    "        comd1_name = data['commands'][col1]['commands']\n",
    "        first_comd = data['commands'][col1]['parameters']\n",
    "        if len(first_comd)==1 and 'None' in first_comd:\n",
    "            for row1 in range(len(data['commands'])):\n",
    "                comd2_name = data['commands'][row1]['commands']\n",
    "                par_sim_rows_cols.loc[comd1_name, comd2_name]=0\n",
    "        else:\n",
    "            for row1 in range(len(data['commands'])):\n",
    "                comd2_name = data['commands'][row1]['commands']\n",
    "                second_comd = data['commands'][row1]['parameters'] \n",
    "                #print(col1, row1, comd1_name, comd2_name)\n",
    "                if len(second_comd)==1 and 'None' in second_comd:\n",
    "                    par_sim_rows_cols.loc[comd1_name, comd2_name]=0\n",
    "                else:\n",
    "                    print(col1, row1, comd1_name, comd2_name)\n",
    "                    sim_score_two_cmds = cal_par_sim_matrix(first_comd, second_comd)\n",
    "                    par_sim_rows_cols.loc[comd1_name, comd2_name]=sim_score_two_cmds\n",
    "    #par_sim_rows_cols.to_csv('./data/linux/my_csv.csv', mode='a', header=False)\n",
    "    return par_sim_rows_cols\n",
    "            "
   ]
  },
  {
   "cell_type": "code",
   "execution_count": 179,
   "metadata": {},
   "outputs": [],
   "source": [
    "def extract_pair_sim_pars(data1, data2):\n",
    "    par_key = []\n",
    "    par_val = []\n",
    "    first_cmd = []\n",
    "    second_cmd = []\n",
    "    \n",
    "    for k1, v1 in data1.items():\n",
    "        par_key.append(k1)\n",
    "        first_cmd.append(k1)\n",
    "        par_val.append(v1)\n",
    "    for k2, v2 in data2.items():\n",
    "        par_key.append(k2)\n",
    "        second_cmd.append(k2)\n",
    "        par_val.append(v2)\n",
    "               \n",
    "    \n",
    "    #vect = TfidfVectorizer(min_df=1, stop_words=\"english\" ) #, stop_words=\"english\"  \n",
    "    vect = TfidfVectorizer(tokenizer=normalize,min_df=1, stop_words='english')\n",
    "    tfidf = vect.fit_transform(par_val)                                                                                                                                                                                                                       \n",
    "    pairwise_similarity = tfidf * tfidf.T \n",
    "    pair_sim = pairwise_similarity.toarray()\n",
    "    sim_df = pd.DataFrame(pair_sim, columns=par_key, index=par_key)\n",
    "    sim_df = sim_df.loc[second_cmd, first_cmd]\n",
    "    if first_cmd==second_cmd:\n",
    "        sim_df = sim_df.loc[:,~sim_df.columns.duplicated()]\n",
    "        sim_df = sim_df.drop_duplicates()\n",
    "\n",
    "    return sim_df"
   ]
  },
  {
   "cell_type": "code",
   "execution_count": 139,
   "metadata": {},
   "outputs": [],
   "source": [
    "#par_sim_linear_sum_assign = create_pars_sim_df(data)"
   ]
  },
  {
   "cell_type": "code",
   "execution_count": 140,
   "metadata": {},
   "outputs": [],
   "source": [
    "#par_sim_linear_sum_assign.to_csv('./data/linux/linux_pars_sim_linear_sum_assign.csv')"
   ]
  },
  {
   "cell_type": "code",
   "execution_count": 187,
   "metadata": {
    "scrolled": false
   },
   "outputs": [
    {
     "data": {
      "text/html": [
       "<div>\n",
       "<style scoped>\n",
       "    .dataframe tbody tr th:only-of-type {\n",
       "        vertical-align: middle;\n",
       "    }\n",
       "\n",
       "    .dataframe tbody tr th {\n",
       "        vertical-align: top;\n",
       "    }\n",
       "\n",
       "    .dataframe thead th {\n",
       "        text-align: right;\n",
       "    }\n",
       "</style>\n",
       "<table border=\"1\" class=\"dataframe\">\n",
       "  <thead>\n",
       "    <tr style=\"text-align: right;\">\n",
       "      <th></th>\n",
       "      <th>--output=MODE</th>\n",
       "      <th>--service=SERVICE[:SERVICE...],-sSERVICE:SERVICE...</th>\n",
       "      <th>--with-nss=BOOL</th>\n",
       "      <th>--synthesize=BOOL</th>\n",
       "      <th>-N</th>\n",
       "      <th>--no-pager</th>\n",
       "      <th>--no-legend</th>\n",
       "    </tr>\n",
       "  </thead>\n",
       "  <tbody>\n",
       "    <tr>\n",
       "      <th>-a</th>\n",
       "      <td>0.021400</td>\n",
       "      <td>0.045263</td>\n",
       "      <td>0.025661</td>\n",
       "      <td>0.004795</td>\n",
       "      <td>0.047041</td>\n",
       "      <td>0.000000</td>\n",
       "      <td>0.0</td>\n",
       "    </tr>\n",
       "    <tr>\n",
       "      <th>-A</th>\n",
       "      <td>0.007766</td>\n",
       "      <td>0.000000</td>\n",
       "      <td>0.018928</td>\n",
       "      <td>0.006157</td>\n",
       "      <td>0.035878</td>\n",
       "      <td>0.000000</td>\n",
       "      <td>0.0</td>\n",
       "    </tr>\n",
       "    <tr>\n",
       "      <th>-d</th>\n",
       "      <td>0.000000</td>\n",
       "      <td>0.000000</td>\n",
       "      <td>0.000000</td>\n",
       "      <td>0.000000</td>\n",
       "      <td>0.000000</td>\n",
       "      <td>0.000000</td>\n",
       "      <td>0.0</td>\n",
       "    </tr>\n",
       "    <tr>\n",
       "      <th>-l</th>\n",
       "      <td>0.000000</td>\n",
       "      <td>0.000000</td>\n",
       "      <td>0.000000</td>\n",
       "      <td>0.000000</td>\n",
       "      <td>0.056584</td>\n",
       "      <td>0.000000</td>\n",
       "      <td>0.0</td>\n",
       "    </tr>\n",
       "    <tr>\n",
       "      <th>-f</th>\n",
       "      <td>0.000000</td>\n",
       "      <td>0.000000</td>\n",
       "      <td>0.000000</td>\n",
       "      <td>0.000000</td>\n",
       "      <td>0.055369</td>\n",
       "      <td>0.000000</td>\n",
       "      <td>0.0</td>\n",
       "    </tr>\n",
       "    <tr>\n",
       "      <th>-F</th>\n",
       "      <td>0.000000</td>\n",
       "      <td>0.000000</td>\n",
       "      <td>0.000000</td>\n",
       "      <td>0.000000</td>\n",
       "      <td>0.055369</td>\n",
       "      <td>0.000000</td>\n",
       "      <td>0.0</td>\n",
       "    </tr>\n",
       "    <tr>\n",
       "      <th>-q</th>\n",
       "      <td>0.000000</td>\n",
       "      <td>0.000000</td>\n",
       "      <td>0.000000</td>\n",
       "      <td>0.000000</td>\n",
       "      <td>0.053069</td>\n",
       "      <td>0.000000</td>\n",
       "      <td>0.0</td>\n",
       "    </tr>\n",
       "    <tr>\n",
       "      <th>-n</th>\n",
       "      <td>0.015760</td>\n",
       "      <td>0.000000</td>\n",
       "      <td>0.000000</td>\n",
       "      <td>0.021256</td>\n",
       "      <td>0.075606</td>\n",
       "      <td>0.000000</td>\n",
       "      <td>0.0</td>\n",
       "    </tr>\n",
       "    <tr>\n",
       "      <th>--window=&lt;n&gt;,--depth=&lt;n&gt;</th>\n",
       "      <td>0.009139</td>\n",
       "      <td>0.000000</td>\n",
       "      <td>0.022276</td>\n",
       "      <td>0.008991</td>\n",
       "      <td>0.034408</td>\n",
       "      <td>0.000000</td>\n",
       "      <td>0.0</td>\n",
       "    </tr>\n",
       "    <tr>\n",
       "      <th>--threads=&lt;n&gt;</th>\n",
       "      <td>0.000000</td>\n",
       "      <td>0.000000</td>\n",
       "      <td>0.000000</td>\n",
       "      <td>0.034903</td>\n",
       "      <td>0.158471</td>\n",
       "      <td>0.000000</td>\n",
       "      <td>0.0</td>\n",
       "    </tr>\n",
       "    <tr>\n",
       "      <th>--window-memory=&lt;n&gt;</th>\n",
       "      <td>0.014597</td>\n",
       "      <td>0.000000</td>\n",
       "      <td>0.041239</td>\n",
       "      <td>0.019496</td>\n",
       "      <td>0.051041</td>\n",
       "      <td>0.000000</td>\n",
       "      <td>0.0</td>\n",
       "    </tr>\n",
       "    <tr>\n",
       "      <th>--max-pack-size=&lt;n&gt;</th>\n",
       "      <td>0.070826</td>\n",
       "      <td>0.017079</td>\n",
       "      <td>0.082123</td>\n",
       "      <td>0.015147</td>\n",
       "      <td>0.000000</td>\n",
       "      <td>0.066796</td>\n",
       "      <td>0.0</td>\n",
       "    </tr>\n",
       "    <tr>\n",
       "      <th>-b,--write-bitmap-index</th>\n",
       "      <td>0.013493</td>\n",
       "      <td>0.000000</td>\n",
       "      <td>0.032889</td>\n",
       "      <td>0.029532</td>\n",
       "      <td>0.151901</td>\n",
       "      <td>0.000000</td>\n",
       "      <td>0.0</td>\n",
       "    </tr>\n",
       "    <tr>\n",
       "      <th>--pack-kept-objects</th>\n",
       "      <td>0.088913</td>\n",
       "      <td>0.000000</td>\n",
       "      <td>0.092593</td>\n",
       "      <td>0.026577</td>\n",
       "      <td>0.148101</td>\n",
       "      <td>0.000000</td>\n",
       "      <td>0.0</td>\n",
       "    </tr>\n",
       "    <tr>\n",
       "      <th>--keep-pack=&lt;pack-name&gt;</th>\n",
       "      <td>0.009603</td>\n",
       "      <td>0.020374</td>\n",
       "      <td>0.023406</td>\n",
       "      <td>0.010627</td>\n",
       "      <td>0.048251</td>\n",
       "      <td>0.000000</td>\n",
       "      <td>0.0</td>\n",
       "    </tr>\n",
       "    <tr>\n",
       "      <th>--unpack-unreachable=&lt;when&gt;</th>\n",
       "      <td>0.022389</td>\n",
       "      <td>0.000000</td>\n",
       "      <td>0.054573</td>\n",
       "      <td>0.010893</td>\n",
       "      <td>0.042052</td>\n",
       "      <td>0.000000</td>\n",
       "      <td>0.0</td>\n",
       "    </tr>\n",
       "    <tr>\n",
       "      <th>-k,--keep-unreachable</th>\n",
       "      <td>0.021880</td>\n",
       "      <td>0.000000</td>\n",
       "      <td>0.053332</td>\n",
       "      <td>0.000000</td>\n",
       "      <td>0.013698</td>\n",
       "      <td>0.000000</td>\n",
       "      <td>0.0</td>\n",
       "    </tr>\n",
       "    <tr>\n",
       "      <th>-i,</th>\n",
       "      <td>0.000000</td>\n",
       "      <td>0.000000</td>\n",
       "      <td>0.000000</td>\n",
       "      <td>0.000000</td>\n",
       "      <td>0.055369</td>\n",
       "      <td>0.000000</td>\n",
       "      <td>0.0</td>\n",
       "    </tr>\n",
       "  </tbody>\n",
       "</table>\n",
       "</div>"
      ],
      "text/plain": [
       "                             --output=MODE  \\\n",
       "-a                                0.021400   \n",
       "-A                                0.007766   \n",
       "-d                                0.000000   \n",
       "-l                                0.000000   \n",
       "-f                                0.000000   \n",
       "-F                                0.000000   \n",
       "-q                                0.000000   \n",
       "-n                                0.015760   \n",
       "--window=<n>,--depth=<n>          0.009139   \n",
       "--threads=<n>                     0.000000   \n",
       "--window-memory=<n>               0.014597   \n",
       "--max-pack-size=<n>               0.070826   \n",
       "-b,--write-bitmap-index           0.013493   \n",
       "--pack-kept-objects               0.088913   \n",
       "--keep-pack=<pack-name>           0.009603   \n",
       "--unpack-unreachable=<when>       0.022389   \n",
       "-k,--keep-unreachable             0.021880   \n",
       "-i,                               0.000000   \n",
       "\n",
       "                             --service=SERVICE[:SERVICE...],-sSERVICE:SERVICE...  \\\n",
       "-a                                                                    0.045263     \n",
       "-A                                                                    0.000000     \n",
       "-d                                                                    0.000000     \n",
       "-l                                                                    0.000000     \n",
       "-f                                                                    0.000000     \n",
       "-F                                                                    0.000000     \n",
       "-q                                                                    0.000000     \n",
       "-n                                                                    0.000000     \n",
       "--window=<n>,--depth=<n>                                              0.000000     \n",
       "--threads=<n>                                                         0.000000     \n",
       "--window-memory=<n>                                                   0.000000     \n",
       "--max-pack-size=<n>                                                   0.017079     \n",
       "-b,--write-bitmap-index                                               0.000000     \n",
       "--pack-kept-objects                                                   0.000000     \n",
       "--keep-pack=<pack-name>                                               0.020374     \n",
       "--unpack-unreachable=<when>                                           0.000000     \n",
       "-k,--keep-unreachable                                                 0.000000     \n",
       "-i,                                                                   0.000000     \n",
       "\n",
       "                             --with-nss=BOOL  --synthesize=BOOL        -N  \\\n",
       "-a                                  0.025661           0.004795  0.047041   \n",
       "-A                                  0.018928           0.006157  0.035878   \n",
       "-d                                  0.000000           0.000000  0.000000   \n",
       "-l                                  0.000000           0.000000  0.056584   \n",
       "-f                                  0.000000           0.000000  0.055369   \n",
       "-F                                  0.000000           0.000000  0.055369   \n",
       "-q                                  0.000000           0.000000  0.053069   \n",
       "-n                                  0.000000           0.021256  0.075606   \n",
       "--window=<n>,--depth=<n>            0.022276           0.008991  0.034408   \n",
       "--threads=<n>                       0.000000           0.034903  0.158471   \n",
       "--window-memory=<n>                 0.041239           0.019496  0.051041   \n",
       "--max-pack-size=<n>                 0.082123           0.015147  0.000000   \n",
       "-b,--write-bitmap-index             0.032889           0.029532  0.151901   \n",
       "--pack-kept-objects                 0.092593           0.026577  0.148101   \n",
       "--keep-pack=<pack-name>             0.023406           0.010627  0.048251   \n",
       "--unpack-unreachable=<when>         0.054573           0.010893  0.042052   \n",
       "-k,--keep-unreachable               0.053332           0.000000  0.013698   \n",
       "-i,                                 0.000000           0.000000  0.055369   \n",
       "\n",
       "                             --no-pager  --no-legend  \n",
       "-a                             0.000000          0.0  \n",
       "-A                             0.000000          0.0  \n",
       "-d                             0.000000          0.0  \n",
       "-l                             0.000000          0.0  \n",
       "-f                             0.000000          0.0  \n",
       "-F                             0.000000          0.0  \n",
       "-q                             0.000000          0.0  \n",
       "-n                             0.000000          0.0  \n",
       "--window=<n>,--depth=<n>       0.000000          0.0  \n",
       "--threads=<n>                  0.000000          0.0  \n",
       "--window-memory=<n>            0.000000          0.0  \n",
       "--max-pack-size=<n>            0.066796          0.0  \n",
       "-b,--write-bitmap-index        0.000000          0.0  \n",
       "--pack-kept-objects            0.000000          0.0  \n",
       "--keep-pack=<pack-name>        0.000000          0.0  \n",
       "--unpack-unreachable=<when>    0.000000          0.0  \n",
       "-k,--keep-unreachable          0.000000          0.0  \n",
       "-i,                            0.000000          0.0  "
      ]
     },
     "execution_count": 187,
     "metadata": {},
     "output_type": "execute_result"
    }
   ],
   "source": [
    "d1 = data['commands'][1231]['parameters']\n",
    "d2 = data['commands'][375]['parameters']\n",
    "#test_df = cal_param_sim_basic(d1, d2)\n",
    "test_df1 = extract_pair_sim_pars(d1, d2)\n",
    "test_df1"
   ]
  },
  {
   "cell_type": "code",
   "execution_count": 188,
   "metadata": {},
   "outputs": [
    {
     "data": {
      "text/plain": [
       "0.4706190476190476"
      ]
     },
     "execution_count": 188,
     "metadata": {},
     "output_type": "execute_result"
    }
   ],
   "source": [
    "-cal_linear_sum_assignment(-test_df)/min(test_df.shape)"
   ]
  },
  {
   "cell_type": "code",
   "execution_count": 189,
   "metadata": {},
   "outputs": [
    {
     "data": {
      "text/plain": [
       "0.06336401568794094"
      ]
     },
     "execution_count": 189,
     "metadata": {},
     "output_type": "execute_result"
    }
   ],
   "source": [
    "-cal_linear_sum_assignment(-test_df1)/min(test_df1.shape)"
   ]
  },
  {
   "cell_type": "code",
   "execution_count": null,
   "metadata": {},
   "outputs": [],
   "source": [
    "par_sim_linear_sum_assign[par_sim_linear_sum_assign == -0]= 0"
   ]
  },
  {
   "cell_type": "code",
   "execution_count": null,
   "metadata": {},
   "outputs": [],
   "source": [
    "for col in par_sim_linear_sum_assign.columns:\n",
    "    if par_sim_linear_sum_assign[col][col]>0:\n",
    "        par_sim_linear_sum_assign[col][col]=1"
   ]
  },
  {
   "cell_type": "code",
   "execution_count": null,
   "metadata": {},
   "outputs": [],
   "source": [
    "par_sim_unique_rows_cols = pd.read_csv('./data/pars_sim_common_rows_cols.csv', index_col=0)"
   ]
  },
  {
   "cell_type": "code",
   "execution_count": null,
   "metadata": {},
   "outputs": [],
   "source": [
    "par_sim_unique_rows_cols"
   ]
  },
  {
   "cell_type": "code",
   "execution_count": null,
   "metadata": {},
   "outputs": [],
   "source": [
    "#par_sim_unique_rows_cols.to_csv('./data/pars_sim_common_rows_cols.csv')"
   ]
  },
  {
   "cell_type": "code",
   "execution_count": null,
   "metadata": {},
   "outputs": [],
   "source": [
    "par_sim_all_rows_cols = pd.read_csv('./data/pars_sim_all_rows_cols.csv', index_col=0)"
   ]
  },
  {
   "cell_type": "code",
   "execution_count": null,
   "metadata": {},
   "outputs": [],
   "source": [
    "par_sim_all_rows_cols"
   ]
  },
  {
   "cell_type": "code",
   "execution_count": null,
   "metadata": {},
   "outputs": [],
   "source": [
    "id_ar = np.identity((len(par_sim_linear_sum_assign.columns)))\n",
    "par_sim_linear_sum_assign[par_sim_linear_sum_assign == -0]= 0\n",
    "temp = par_sim_linear_sum_assign.round(3) - id_ar\n",
    "#temp[temp < 0] = 0\n",
    "temp2 = temp[temp.idxmax()]\n",
    "a = temp.max()\n",
    "b = temp.idxmax()\n",
    "c = dict(a)\n",
    "d = dict(b)\n",
    "sim_sc = []\n",
    "for k, v in c.items():\n",
    "    sim_sc.append([k, d[k], c[k]] )\n",
    "sim_sc_pd = pd.DataFrame(sim_sc, columns=['first', 'second', 'score'])\n",
    "asc = sim_sc_pd.sort_values('score', ascending=False)\n",
    "figure = plt.figure(figsize=(10, 8))\n",
    "plt.plot(asc['first'], asc['score']);"
   ]
  },
  {
   "cell_type": "code",
   "execution_count": null,
   "metadata": {},
   "outputs": [],
   "source": [
    "c = cal_param_sim_basic(data['commands'][689]['parameters'],data['commands'][689]['parameters'])"
   ]
  },
  {
   "cell_type": "code",
   "execution_count": null,
   "metadata": {},
   "outputs": [],
   "source": [
    "'''for col in aa.columns:\n",
    "    if col not in none_pars:\n",
    "        if aa.loc[col,col]<1:\n",
    "            print(col, aa.loc[col,col])\n",
    "            aa.loc[col,col] = 1\n",
    "            print(col, aa.loc[col,col])\n",
    "      \n",
    "aa.loc[:, (aa == 0).all()] '''          "
   ]
  },
  {
   "cell_type": "code",
   "execution_count": null,
   "metadata": {},
   "outputs": [],
   "source": [
    "tot_non = 0\n",
    "for i in range(len(data['commands'])):\n",
    "    parameters = data['commands'][i]['parameters']\n",
    "    if 'None' in parameters:\n",
    "          tot_non+=1\n",
    "tot_non"
   ]
  },
  {
   "cell_type": "code",
   "execution_count": null,
   "metadata": {},
   "outputs": [],
   "source": [
    "par_list =['sub-command','option', 'paramreter','parameters','term', 'commands', 'subcommand', 'base parameters','option flag']"
   ]
  },
  {
   "cell_type": "code",
   "execution_count": null,
   "metadata": {},
   "outputs": [],
   "source": [
    "df = pd.read_csv('./data/pars_sim_linear_sum_assign.csv', index_col=0)"
   ]
  },
  {
   "cell_type": "code",
   "execution_count": null,
   "metadata": {},
   "outputs": [],
   "source": [
    "df[df<0]=0\n",
    "df[df == -0 ]=0"
   ]
  },
  {
   "cell_type": "code",
   "execution_count": null,
   "metadata": {},
   "outputs": [],
   "source": [
    "id_ar = np.identity((len(df.columns)))\n",
    "temp = df.round(3) - id_ar\n",
    "temp2 = temp[temp.idxmax()]\n",
    "a = temp.max()\n",
    "b = temp.idxmax()\n",
    "c = dict(a)\n",
    "d = dict(b)\n",
    "sim_sc = []\n",
    "for k, v in c.items():\n",
    "    sim_sc.append([k, d[k], c[k]] )\n",
    "sim_sc_pd = pd.DataFrame(sim_sc, columns=['first', 'second', 'score'])\n",
    "asc = sim_sc_pd.sort_values('score', ascending=False)\n",
    "figure = plt.figure(figsize=(10, 8))\n",
    "asc = asc[asc['second']!='cls']\n",
    "plt.plot(asc['first'], asc['score']);"
   ]
  },
  {
   "cell_type": "code",
   "execution_count": null,
   "metadata": {},
   "outputs": [],
   "source": [
    "asc#[asc['second']!='cls']"
   ]
  }
 ],
 "metadata": {
  "kernelspec": {
   "display_name": "Python 3",
   "language": "python",
   "name": "python3"
  },
  "language_info": {
   "codemirror_mode": {
    "name": "ipython",
    "version": 3
   },
   "file_extension": ".py",
   "mimetype": "text/x-python",
   "name": "python",
   "nbconvert_exporter": "python",
   "pygments_lexer": "ipython3",
   "version": "3.7.7"
  }
 },
 "nbformat": 4,
 "nbformat_minor": 4
}

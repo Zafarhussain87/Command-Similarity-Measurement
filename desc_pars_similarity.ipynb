{
 "cells": [
  {
   "cell_type": "code",
   "execution_count": null,
   "metadata": {},
   "outputs": [],
   "source": [
    "import json\n",
    "import pandas as pd\n",
    "import numpy as np\n",
    "from pprint import pprint\n",
    "import nltk\n",
    "#nltk.download('stopwords')\n",
    "from nltk.corpus import stopwords \n",
    "from nltk.tokenize import word_tokenize \n",
    "import matplotlib.pyplot as plt\n",
    "import string\n",
    "import networkx as nx\n",
    "from sklearn.metrics.pairwise import cosine_similarity\n",
    "from sklearn.feature_extraction.text import CountVectorizer\n",
    "from nltk.corpus import stopwords\n",
    "from sklearn.feature_extraction.text import TfidfVectorizer\n",
    "import plotly.figure_factory as ff\n",
    "from scipy.cluster import hierarchy\n",
    "#stopwords = stopwords.words('english')"
   ]
  },
  {
   "cell_type": "code",
   "execution_count": null,
   "metadata": {},
   "outputs": [],
   "source": [
    "with open(\"linux_data_clean.txt\", \"r\") as read_file:\n",
    "    data = json.load(read_file)"
   ]
  },
  {
   "cell_type": "code",
   "execution_count": null,
   "metadata": {},
   "outputs": [],
   "source": [
    "def create_pairwise_similarity(data):\n",
    "    corpus, columns = [], [] \n",
    "    for d in range(len(data['commands'])):\n",
    "        corpus.append(data['commands'][d]['description'])\n",
    "    vect = TfidfVectorizer(min_df=1, stop_words=\"english\" ) #, stop_words=\"english\"                                                                                                                                                                                                  \n",
    "    tfidf = vect.fit_transform(corpus)                                                                                                                                                                                                                       \n",
    "    pairwise_similarity = tfidf * tfidf.T \n",
    "    pair_sim = pairwise_similarity.toarray()\n",
    "    for d in range(len(data['commands'])):\n",
    "        columns.append(data['commands'][d]['commands'])\n",
    "    sim_df = pd.DataFrame(pair_sim, columns=columns, index=columns)\n",
    "    return sim_df"
   ]
  },
  {
   "cell_type": "code",
   "execution_count": null,
   "metadata": {},
   "outputs": [],
   "source": [
    "def combine_desc_pars(data):\n",
    "    new_data = {}\n",
    "    new_data['commands']=[]\n",
    "    for i in range(len(data['commands'])):\n",
    "        cmd_name = data['commands'][i]['commands']\n",
    "        cmd_desc = data['commands'][i]['description']\n",
    "    \n",
    "        pars = data['commands'][i]['parameters']\n",
    "        for k, v in pars.items():\n",
    "            if v!='None':\n",
    "                cmd_desc+=v\n",
    "        new_data['commands'].append({\n",
    "        'commands': cmd_name,\n",
    "        'description':cmd_desc})"
   ]
  },
  {
   "cell_type": "code",
   "execution_count": null,
   "metadata": {},
   "outputs": [],
   "source": [
    "new_data = combine_desc_pars(data)\n",
    "sim_df_desc_pars = create_pairwise_similarity(new_data)"
   ]
  },
  {
   "cell_type": "code",
   "execution_count": null,
   "metadata": {},
   "outputs": [],
   "source": [
    "sim_df_desc_pars.to_csv('linux_desc_pars_sim_df.csv')"
   ]
  },
  {
   "cell_type": "code",
   "execution_count": null,
   "metadata": {},
   "outputs": [],
   "source": [
    "with open(\"./data/windows/windows_data.txt\", \"r\") as read_file:\n",
    "    data = json.load(read_file)"
   ]
  },
  {
   "cell_type": "code",
   "execution_count": null,
   "metadata": {},
   "outputs": [],
   "source": [
    "new_data = combine_desc_pars(data)\n",
    "sim_df_desc_pars = create_pairwise_similarity(new_data)"
   ]
  },
  {
   "cell_type": "code",
   "execution_count": null,
   "metadata": {},
   "outputs": [],
   "source": [
    "sim_df_desc_pars.to_csv('windows_desc_pars_sim_df.csv')"
   ]
  }
 ],
 "metadata": {
  "kernelspec": {
   "display_name": "Python 3",
   "language": "python",
   "name": "python3"
  },
  "language_info": {
   "codemirror_mode": {
    "name": "ipython",
    "version": 3
   },
   "file_extension": ".py",
   "mimetype": "text/x-python",
   "name": "python",
   "nbconvert_exporter": "python",
   "pygments_lexer": "ipython3",
   "version": "3.7.7"
  }
 },
 "nbformat": 4,
 "nbformat_minor": 4
}

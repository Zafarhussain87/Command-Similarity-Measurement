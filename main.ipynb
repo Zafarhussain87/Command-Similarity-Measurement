{
 "cells": [
  {
   "cell_type": "code",
   "execution_count": 7,
   "metadata": {},
   "outputs": [
    {
     "ename": "ModuleNotFoundError",
     "evalue": "No module named 'strsim'",
     "output_type": "error",
     "traceback": [
      "\u001b[1;31m---------------------------------------------------------------------------\u001b[0m",
      "\u001b[1;31mModuleNotFoundError\u001b[0m                       Traceback (most recent call last)",
      "\u001b[1;32m<ipython-input-7-56454c5c87ea>\u001b[0m in \u001b[0;36m<module>\u001b[1;34m\u001b[0m\n\u001b[1;32m----> 1\u001b[1;33m \u001b[1;32mfrom\u001b[0m \u001b[0msimilarity\u001b[0m \u001b[1;32mimport\u001b[0m \u001b[0mload_similarity_config\u001b[0m\u001b[1;33m,\u001b[0m \u001b[0mload_similarity_matrix\u001b[0m\u001b[1;33m,\u001b[0m \u001b[0mcompare_graphs\u001b[0m\u001b[1;33m\u001b[0m\u001b[1;33m\u001b[0m\u001b[0m\n\u001b[0m",
      "\u001b[1;31mModuleNotFoundError\u001b[0m: No module named 'strsim'"
     ]
    }
   ],
   "source": [
    "from similarity import load_similarity_config, load_similarity_matrix, compare_graphs"
   ]
  },
  {
   "cell_type": "code",
   "execution_count": 6,
   "metadata": {},
   "outputs": [
    {
     "ename": "NameError",
     "evalue": "name 'load_similarity_config' is not defined",
     "output_type": "error",
     "traceback": [
      "\u001b[1;31m---------------------------------------------------------------------------\u001b[0m",
      "\u001b[1;31mNameError\u001b[0m                                 Traceback (most recent call last)",
      "\u001b[1;32m<ipython-input-6-abed1ba3bae0>\u001b[0m in \u001b[0;36m<module>\u001b[1;34m\u001b[0m\n\u001b[0;32m     34\u001b[0m \u001b[1;33m\u001b[0m\u001b[0m\n\u001b[0;32m     35\u001b[0m \u001b[1;32mif\u001b[0m \u001b[0m__name__\u001b[0m \u001b[1;33m==\u001b[0m \u001b[1;34m'__main__'\u001b[0m\u001b[1;33m:\u001b[0m\u001b[1;33m\u001b[0m\u001b[1;33m\u001b[0m\u001b[0m\n\u001b[1;32m---> 36\u001b[1;33m     \u001b[0mmain\u001b[0m\u001b[1;33m(\u001b[0m\u001b[1;33m)\u001b[0m\u001b[1;33m\u001b[0m\u001b[1;33m\u001b[0m\u001b[0m\n\u001b[0m",
      "\u001b[1;32m<ipython-input-6-abed1ba3bae0>\u001b[0m in \u001b[0;36mmain\u001b[1;34m()\u001b[0m\n\u001b[0;32m     11\u001b[0m \u001b[1;33m\u001b[0m\u001b[0m\n\u001b[0;32m     12\u001b[0m \u001b[1;32mdef\u001b[0m \u001b[0mmain\u001b[0m\u001b[1;33m(\u001b[0m\u001b[1;33m)\u001b[0m\u001b[1;33m:\u001b[0m\u001b[1;33m\u001b[0m\u001b[1;33m\u001b[0m\u001b[0m\n\u001b[1;32m---> 13\u001b[1;33m     \u001b[0msimilarity_combinations_dict\u001b[0m \u001b[1;33m=\u001b[0m \u001b[0mload_similarity_config\u001b[0m\u001b[1;33m(\u001b[0m\u001b[1;33m)\u001b[0m\u001b[1;33m\u001b[0m\u001b[1;33m\u001b[0m\u001b[0m\n\u001b[0m\u001b[0;32m     14\u001b[0m     \u001b[0mwind_comd_sim_ref_columns\u001b[0m\u001b[1;33m,\u001b[0m \u001b[0mwind_comd_sim_ref\u001b[0m \u001b[1;33m=\u001b[0m \u001b[0mload_similarity_matrix\u001b[0m\u001b[1;33m(\u001b[0m\u001b[1;33m)\u001b[0m\u001b[1;33m\u001b[0m\u001b[1;33m\u001b[0m\u001b[0m\n\u001b[0;32m     15\u001b[0m \u001b[1;33m\u001b[0m\u001b[0m\n",
      "\u001b[1;31mNameError\u001b[0m: name 'load_similarity_config' is not defined"
     ]
    }
   ],
   "source": [
    "def calc_similarity(cmd1_tags, cmd1_tokens, cmd2_tags, cmd2_tokens, similarity_combinations_dict, wind_comd_sim_ref_columns, wind_comd_sim_ref):\n",
    "    try:\n",
    "        is_similar = \"Similar\" if compare_graphs(\n",
    "            cmd1_tags, cmd1_tokens, cmd2_tags, cmd2_tokens, similarity_combinations_dict, wind_comd_sim_ref_columns, wind_comd_sim_ref\n",
    "        )[2] else \"Different\"\n",
    "    except Exception as err:\n",
    "        print(err)\n",
    "        is_similar = \"error\"\n",
    "    return is_similar\n",
    "\n",
    "\n",
    "def main():\n",
    "    similarity_combinations_dict = load_similarity_config()\n",
    "    wind_comd_sim_ref_columns, wind_comd_sim_ref = load_similarity_matrix()\n",
    "\n",
    "    cmd1_tokens = [\"C:\\\\WINDOWS\\\\system32\\\\svchost.exe \", \"-k\", \"LocalSystemNetworkRestricted\", \"-p\", \"-s\", \"SysMain\"]\n",
    "    cmd1_tags = [\"COMM\", \"FLAG\", \"FLAG_VALUE\", \"FLAG\", \"FLAG\", \"FLAG_VALUE\"]\n",
    "\n",
    "    cmd2_tokens = [\"C:\\\\WINDOWS\\\\system32\\\\svchost.exe \", \"-k\", \"LocalService\", \"-p\", \"-s\", \"WebClient\"]\n",
    "    cmd2_tags = [\"COMM\", \"FLAG\", \"FLAG_VALUE\", \"FLAG\", \"FLAG\", \"FLAG_VALUE\"]\n",
    "\n",
    "    is_similar = calc_similarity(\n",
    "        cmd1_tags,\n",
    "        cmd1_tokens,\n",
    "        cmd2_tags,\n",
    "        cmd2_tokens,\n",
    "        similarity_combinations_dict,\n",
    "        wind_comd_sim_ref_columns,\n",
    "        wind_comd_sim_ref\n",
    "    )\n",
    "\n",
    "    print(\"Model: %s\\n#%s#\\n#%s#\\n\" % (is_similar, cmd1_tokens, cmd2_tokens))\n",
    "\n",
    "\n",
    "if __name__ == '__main__':\n",
    "    main()\n"
   ]
  },
  {
   "cell_type": "code",
   "execution_count": null,
   "metadata": {},
   "outputs": [],
   "source": []
  }
 ],
 "metadata": {
  "kernelspec": {
   "display_name": "Python 3",
   "language": "python",
   "name": "python3"
  },
  "language_info": {
   "codemirror_mode": {
    "name": "ipython",
    "version": 3
   },
   "file_extension": ".py",
   "mimetype": "text/x-python",
   "name": "python",
   "nbconvert_exporter": "python",
   "pygments_lexer": "ipython3",
   "version": "3.7.7"
  }
 },
 "nbformat": 4,
 "nbformat_minor": 4
}
